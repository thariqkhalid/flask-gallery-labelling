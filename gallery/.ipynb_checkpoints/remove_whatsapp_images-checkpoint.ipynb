{
 "cells": [
  {
   "cell_type": "code",
   "execution_count": 1,
   "metadata": {},
   "outputs": [
    {
     "name": "stdout",
     "output_type": "stream",
     "text": [
      "Using matplotlib backend: MacOSX\n"
     ]
    }
   ],
   "source": [
    "import numpy as np\n",
    "from skimage import io\n",
    "import matplotlib.pyplot as plt\n",
    "%matplotlib auto\n",
    "from skimage import color"
   ]
  },
  {
   "cell_type": "code",
   "execution_count": 2,
   "metadata": {},
   "outputs": [],
   "source": [
    "whatsapp_android_img = io.imread('/Users/thariq/Downloads/WhatsApp_android.jpg')\n",
    "whatsapp_iphone_img = io.imread('/Users/thariq/Downloads/WhatsApp_iphone.jpeg')"
   ]
  },
  {
   "cell_type": "code",
   "execution_count": 3,
   "metadata": {},
   "outputs": [
    {
     "name": "stdout",
     "output_type": "stream",
     "text": [
      "((2220, 1080, 3), (1024, 473, 3))\n"
     ]
    }
   ],
   "source": [
    "print(whatsapp_android_img.shape, whatsapp_iphone_img.shape)"
   ]
  },
  {
   "cell_type": "code",
   "execution_count": 4,
   "metadata": {},
   "outputs": [],
   "source": [
    "mod_and_img = whatsapp_android_img[55:200,:,:]\n",
    "mod_iph_img = whatsapp_iphone_img[55:105,:,:]"
   ]
  },
  {
   "cell_type": "code",
   "execution_count": 5,
   "metadata": {},
   "outputs": [],
   "source": [
    "gray_and_img = color.rgb2gray(mod_and_img)\n",
    "gray_iph_img = color.rgb2gray(mod_iph_img)"
   ]
  },
  {
   "cell_type": "code",
   "execution_count": 6,
   "metadata": {},
   "outputs": [],
   "source": [
    "def plot_2_pictures(x, y):\n",
    "    plt.subplot(121)\n",
    "    plt.imshow(x,'gray')\n",
    "    plt.subplot(122)\n",
    "    plt.imshow(y,'gray')\n",
    "    plt.show(block=True)"
   ]
  },
  {
   "cell_type": "code",
   "execution_count": 7,
   "metadata": {},
   "outputs": [
    {
     "data": {
      "image/png": "[encoded data removed]",
      "text/plain": [
       "<Figure size 432x288 with 2 Axes>"
      ]
     },
     "metadata": {
      "needs_background": "light"
     },
     "output_type": "display_data"
    }
   ],
   "source": [
    "plot_2_pictures(mod_and_img, mod_iph_img)"
   ]
  },
  {
   "cell_type": "code",
   "execution_count": 8,
   "metadata": {},
   "outputs": [],
   "source": [
    "gray_and_img = gray_and_img * 255.0\n",
    "gray_iph_img = gray_iph_img * 255.0"
   ]
  },
  {
   "cell_type": "code",
   "execution_count": null,
   "metadata": {},
   "outputs": [],
   "source": [
    "def detect_whatsapp_image(img):\n",
    "    hist, bin_edges = np.histogram(gray_iph_img, bins=255)\n",
    "    i = np.argmax(hist)\n",
    "    if hist[i] > 10000:\n",
    "        if i == 73 or i == 74:\n",
    "                return 1\n",
    "        elif i == 246 or i == 247:\n",
    "            return 1\n",
    "    else:\n",
    "        return 0"
   ]
  },
  {
   "cell_type": "code",
   "execution_count": 31,
   "metadata": {},
   "outputs": [
    {
     "data": {
      "text/plain": [
       "array([  121,    21,    13,    13,    13,    17,     9,     9,     9,\n",
       "          11,    14,     3,     8,     6,     4,     5,     4,     4,\n",
       "           6,     6,     6,     5,     5,     2,     5,     0,     4,\n",
       "           0,     2,     5,     3,     3,     6,     3,    14,     8,\n",
       "           9,    10,     9,     7,     3,     9,    12,    17,    14,\n",
       "           6,    16,    15,    27,    18,     8,    13,    19,    11,\n",
       "           5,    16,    18,    10,    13,    10,    14,    11,     5,\n",
       "           6,    12,     8,     4,     7,    14,    13,     7,    13,\n",
       "          12,    13,     7,    16,     9,     6,     7,     8,    13,\n",
       "          10,     6,    11,    13,     7,    10,    10,    10,    16,\n",
       "          17,    10,    10,    15,    12,    13,    22,    20,    14,\n",
       "          16,    18,    27,    16,    25,    23,    16,    21,    19,\n",
       "          17,    26,    24,    16,    17,    10,    23,    23,    19,\n",
       "          13,    11,    16,    18,    14,    15,    19,     8,    18,\n",
       "          12,    13,    13,    18,    15,    15,     6,    15,    20,\n",
       "          22,    18,    13,    22,    16,    24,    16,    21,    24,\n",
       "          13,    17,    17,    26,    24,    34,    31,    32,    39,\n",
       "          27,    36,    24,    33,    32,    31,    36,    42,    28,\n",
       "          24,    27,    25,    27,    21,    25,    27,    23,    27,\n",
       "          28,    21,    19,    19,    25,    17,    26,    22,    23,\n",
       "          23,    13,    22,    16,    19,    10,    17,    10,     9,\n",
       "          14,    23,    14,    13,    17,    13,    17,    15,    14,\n",
       "          12,    21,     7,    13,    14,    11,     8,    12,    16,\n",
       "           9,     6,     8,     9,    20,    11,    13,    14,    23,\n",
       "           5,    19,    11,    13,    18,    23,     8,    18,    14,\n",
       "          20,    17,    27,    22,    35,    33,    31,    42,    42,\n",
       "          53,    73,    78,    89,   119,   139,   157,   192,   253,\n",
       "         399,   243,   457,  2926, 12316,   498,   424,   421,   132,\n",
       "         210,   188,   547])"
      ]
     },
     "execution_count": 31,
     "metadata": {},
     "output_type": "execute_result"
    }
   ],
   "source": [
    "hist, bin_edges = np.histogram(gray_iph_img, bins=255)\n",
    "hist"
   ]
  },
  {
   "cell_type": "code",
   "execution_count": null,
   "metadata": {},
   "outputs": [],
   "source": []
  }
 ],
 "metadata": {
  "kernelspec": {
   "display_name": "Python 2",
   "language": "python",
   "name": "python2"
  },
  "language_info": {
   "codemirror_mode": {
    "name": "ipython",
    "version": 2
   },
   "file_extension": ".py",
   "mimetype": "text/x-python",
   "name": "python",
   "nbconvert_exporter": "python",
   "pygments_lexer": "ipython2",
   "version": "2.7.15"
  }
 },
 "nbformat": 4,
 "nbformat_minor": 2
}
